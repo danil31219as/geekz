{
  "nbformat": 4,
  "nbformat_minor": 0,
  "metadata": {
    "colab": {
      "name": "geekz_model.ipynb",
      "provenance": [],
      "authorship_tag": "ABX9TyOW8l6dujULEVSYeDj58WY7",
      "include_colab_link": true
    },
    "kernelspec": {
      "name": "python3",
      "display_name": "Python 3"
    },
    "language_info": {
      "name": "python"
    }
  },
  "cells": [
    {
      "cell_type": "markdown",
      "metadata": {
        "id": "view-in-github",
        "colab_type": "text"
      },
      "source": [
        "<a href=\"https://colab.research.google.com/github/danil31219as/geekz/blob/main/geekz_model.ipynb\" target=\"_parent\"><img src=\"https://colab.research.google.com/assets/colab-badge.svg\" alt=\"Open In Colab\"/></a>"
      ]
    },
    {
      "cell_type": "code",
      "metadata": {
        "id": "nzrfPqavZvK7"
      },
      "source": [
        "import pandas as pd\n",
        "import numpy as np\n",
        "import matplotlib.pyplot as plt"
      ],
      "execution_count": 19,
      "outputs": []
    },
    {
      "cell_type": "code",
      "metadata": {
        "id": "2-JFT6ExJKOi"
      },
      "source": [
        "users_df = pd.read_csv('users.csv', encoding='utf-16')"
      ],
      "execution_count": 6,
      "outputs": []
    },
    {
      "cell_type": "code",
      "metadata": {
        "colab": {
          "base_uri": "https://localhost:8080/",
          "height": 219
        },
        "id": "NB-DBndLJPxn",
        "outputId": "1ef593fc-f7f5-4094-feb2-32afeab6b26e"
      },
      "source": [
        "users_df.head()"
      ],
      "execution_count": 7,
      "outputs": [
        {
          "output_type": "execute_result",
          "data": {
            "text/html": [
              "<div>\n",
              "<style scoped>\n",
              "    .dataframe tbody tr th:only-of-type {\n",
              "        vertical-align: middle;\n",
              "    }\n",
              "\n",
              "    .dataframe tbody tr th {\n",
              "        vertical-align: top;\n",
              "    }\n",
              "\n",
              "    .dataframe thead th {\n",
              "        text-align: right;\n",
              "    }\n",
              "</style>\n",
              "<table border=\"1\" class=\"dataframe\">\n",
              "  <thead>\n",
              "    <tr style=\"text-align: right;\">\n",
              "      <th></th>\n",
              "      <th>user_id</th>\n",
              "      <th>lessonTest1_score</th>\n",
              "      <th>lessonWebinar2_visit</th>\n",
              "      <th>lesson3_visit</th>\n",
              "      <th>lesson3_progress</th>\n",
              "      <th>lesson4_visit</th>\n",
              "      <th>lesson4_progress</th>\n",
              "      <th>lesson5_visit</th>\n",
              "      <th>lesson5_progress</th>\n",
              "      <th>lesson6_visit</th>\n",
              "      <th>lesson6_progress</th>\n",
              "      <th>lesson7_visit</th>\n",
              "      <th>lesson7_progress</th>\n",
              "      <th>lessonTest8_score</th>\n",
              "      <th>lessonWebinar9_visit</th>\n",
              "      <th>lesson10_visit</th>\n",
              "      <th>lesson10_progress</th>\n",
              "      <th>lesson11_visit</th>\n",
              "      <th>lesson11_progress</th>\n",
              "      <th>lesson12_visit</th>\n",
              "      <th>lesson12_progress</th>\n",
              "      <th>lessonWebinar13_visit</th>\n",
              "      <th>lessonTest14_score</th>\n",
              "    </tr>\n",
              "  </thead>\n",
              "  <tbody>\n",
              "    <tr>\n",
              "      <th>0</th>\n",
              "      <td>1</td>\n",
              "      <td>62</td>\n",
              "      <td>0</td>\n",
              "      <td>1</td>\n",
              "      <td>47</td>\n",
              "      <td>0</td>\n",
              "      <td>41</td>\n",
              "      <td>1</td>\n",
              "      <td>34</td>\n",
              "      <td>1</td>\n",
              "      <td>36</td>\n",
              "      <td>1</td>\n",
              "      <td>53</td>\n",
              "      <td>60</td>\n",
              "      <td>1</td>\n",
              "      <td>0</td>\n",
              "      <td>44</td>\n",
              "      <td>0</td>\n",
              "      <td>39</td>\n",
              "      <td>0</td>\n",
              "      <td>45</td>\n",
              "      <td>1</td>\n",
              "      <td>57</td>\n",
              "    </tr>\n",
              "    <tr>\n",
              "      <th>1</th>\n",
              "      <td>2</td>\n",
              "      <td>85</td>\n",
              "      <td>0</td>\n",
              "      <td>1</td>\n",
              "      <td>76</td>\n",
              "      <td>0</td>\n",
              "      <td>93</td>\n",
              "      <td>1</td>\n",
              "      <td>85</td>\n",
              "      <td>0</td>\n",
              "      <td>70</td>\n",
              "      <td>1</td>\n",
              "      <td>80</td>\n",
              "      <td>76</td>\n",
              "      <td>1</td>\n",
              "      <td>1</td>\n",
              "      <td>85</td>\n",
              "      <td>1</td>\n",
              "      <td>84</td>\n",
              "      <td>0</td>\n",
              "      <td>75</td>\n",
              "      <td>1</td>\n",
              "      <td>72</td>\n",
              "    </tr>\n",
              "    <tr>\n",
              "      <th>2</th>\n",
              "      <td>3</td>\n",
              "      <td>3</td>\n",
              "      <td>0</td>\n",
              "      <td>0</td>\n",
              "      <td>12</td>\n",
              "      <td>0</td>\n",
              "      <td>27</td>\n",
              "      <td>1</td>\n",
              "      <td>28</td>\n",
              "      <td>0</td>\n",
              "      <td>15</td>\n",
              "      <td>0</td>\n",
              "      <td>27</td>\n",
              "      <td>10</td>\n",
              "      <td>1</td>\n",
              "      <td>0</td>\n",
              "      <td>5</td>\n",
              "      <td>1</td>\n",
              "      <td>9</td>\n",
              "      <td>1</td>\n",
              "      <td>12</td>\n",
              "      <td>1</td>\n",
              "      <td>25</td>\n",
              "    </tr>\n",
              "    <tr>\n",
              "      <th>3</th>\n",
              "      <td>4</td>\n",
              "      <td>67</td>\n",
              "      <td>1</td>\n",
              "      <td>0</td>\n",
              "      <td>69</td>\n",
              "      <td>1</td>\n",
              "      <td>50</td>\n",
              "      <td>1</td>\n",
              "      <td>59</td>\n",
              "      <td>1</td>\n",
              "      <td>45</td>\n",
              "      <td>0</td>\n",
              "      <td>38</td>\n",
              "      <td>42</td>\n",
              "      <td>1</td>\n",
              "      <td>0</td>\n",
              "      <td>35</td>\n",
              "      <td>1</td>\n",
              "      <td>69</td>\n",
              "      <td>0</td>\n",
              "      <td>35</td>\n",
              "      <td>0</td>\n",
              "      <td>46</td>\n",
              "    </tr>\n",
              "    <tr>\n",
              "      <th>4</th>\n",
              "      <td>5</td>\n",
              "      <td>88</td>\n",
              "      <td>1</td>\n",
              "      <td>1</td>\n",
              "      <td>79</td>\n",
              "      <td>0</td>\n",
              "      <td>93</td>\n",
              "      <td>0</td>\n",
              "      <td>80</td>\n",
              "      <td>1</td>\n",
              "      <td>97</td>\n",
              "      <td>0</td>\n",
              "      <td>92</td>\n",
              "      <td>72</td>\n",
              "      <td>1</td>\n",
              "      <td>1</td>\n",
              "      <td>87</td>\n",
              "      <td>0</td>\n",
              "      <td>75</td>\n",
              "      <td>1</td>\n",
              "      <td>87</td>\n",
              "      <td>1</td>\n",
              "      <td>84</td>\n",
              "    </tr>\n",
              "  </tbody>\n",
              "</table>\n",
              "</div>"
            ],
            "text/plain": [
              "   user_id  lessonTest1_score  ...  lessonWebinar13_visit  lessonTest14_score\n",
              "0        1                 62  ...                      1                  57\n",
              "1        2                 85  ...                      1                  72\n",
              "2        3                  3  ...                      1                  25\n",
              "3        4                 67  ...                      0                  46\n",
              "4        5                 88  ...                      1                  84\n",
              "\n",
              "[5 rows x 23 columns]"
            ]
          },
          "metadata": {
            "tags": []
          },
          "execution_count": 7
        }
      ]
    },
    {
      "cell_type": "code",
      "metadata": {
        "id": "I0TYtQ3wJULE"
      },
      "source": [
        "mean_df = pd.DataFrame({'user_id': users_df['user_id']})"
      ],
      "execution_count": 8,
      "outputs": []
    },
    {
      "cell_type": "code",
      "metadata": {
        "id": "4ZrAT4FeJkrC"
      },
      "source": [
        "mean_df['score'] = np.zeros(len(users_df))\n",
        "mean_df['visit'] = np.zeros(len(users_df))\n",
        "mean_df['progress'] = np.zeros(len(users_df))"
      ],
      "execution_count": 9,
      "outputs": []
    },
    {
      "cell_type": "code",
      "metadata": {
        "id": "Wu-0Rn99JqoH"
      },
      "source": [
        "count_score = 0\n",
        "count_visit = 0\n",
        "count_progress = 0\n",
        "for column in users_df.columns:\n",
        "  if 'score' in column:\n",
        "    mean_df['score'] += users_df[column]\n",
        "    count_score += 1\n",
        "  elif 'visit' in column:\n",
        "    mean_df['visit'] += users_df[column]\n",
        "    count_visit += 1\n",
        "  elif 'progress' in column:\n",
        "    mean_df['progress'] += users_df[column]\n",
        "    count_progress += 1"
      ],
      "execution_count": 10,
      "outputs": []
    },
    {
      "cell_type": "code",
      "metadata": {
        "id": "tbzgDGjMLKvp"
      },
      "source": [
        "mean_df['score'] /= count_score * 100\n",
        "mean_df['visit'] /= count_visit\n",
        "mean_df['progress'] /= count_progress * 100"
      ],
      "execution_count": 11,
      "outputs": []
    },
    {
      "cell_type": "code",
      "metadata": {
        "colab": {
          "base_uri": "https://localhost:8080/"
        },
        "id": "tDhOj_ZOL1TO",
        "outputId": "14e9b202-e4ea-47d7-c22a-639aa2119d69"
      },
      "source": [
        "mean_df.pop('user_id')"
      ],
      "execution_count": 74,
      "outputs": [
        {
          "output_type": "execute_result",
          "data": {
            "text/plain": [
              "0        1\n",
              "1        2\n",
              "2        3\n",
              "3        4\n",
              "4        5\n",
              "      ... \n",
              "295    296\n",
              "296    297\n",
              "297    298\n",
              "298    299\n",
              "299    300\n",
              "Name: user_id, Length: 300, dtype: int64"
            ]
          },
          "metadata": {
            "tags": []
          },
          "execution_count": 74
        }
      ]
    },
    {
      "cell_type": "code",
      "metadata": {
        "colab": {
          "base_uri": "https://localhost:8080/",
          "height": 199
        },
        "id": "u0SFuWyiL15j",
        "outputId": "61eb4a0d-8b32-4eb8-9582-9034d3aac845"
      },
      "source": [
        "mean_df.head()"
      ],
      "execution_count": 75,
      "outputs": [
        {
          "output_type": "execute_result",
          "data": {
            "text/html": [
              "<div>\n",
              "<style scoped>\n",
              "    .dataframe tbody tr th:only-of-type {\n",
              "        vertical-align: middle;\n",
              "    }\n",
              "\n",
              "    .dataframe tbody tr th {\n",
              "        vertical-align: top;\n",
              "    }\n",
              "\n",
              "    .dataframe thead th {\n",
              "        text-align: right;\n",
              "    }\n",
              "</style>\n",
              "<table border=\"1\" class=\"dataframe\">\n",
              "  <thead>\n",
              "    <tr style=\"text-align: right;\">\n",
              "      <th></th>\n",
              "      <th>score</th>\n",
              "      <th>visit</th>\n",
              "      <th>progress</th>\n",
              "    </tr>\n",
              "  </thead>\n",
              "  <tbody>\n",
              "    <tr>\n",
              "      <th>0</th>\n",
              "      <td>0.596667</td>\n",
              "      <td>0.545455</td>\n",
              "      <td>0.42375</td>\n",
              "    </tr>\n",
              "    <tr>\n",
              "      <th>1</th>\n",
              "      <td>0.776667</td>\n",
              "      <td>0.636364</td>\n",
              "      <td>0.81000</td>\n",
              "    </tr>\n",
              "    <tr>\n",
              "      <th>2</th>\n",
              "      <td>0.126667</td>\n",
              "      <td>0.454545</td>\n",
              "      <td>0.16875</td>\n",
              "    </tr>\n",
              "    <tr>\n",
              "      <th>3</th>\n",
              "      <td>0.516667</td>\n",
              "      <td>0.545455</td>\n",
              "      <td>0.50000</td>\n",
              "    </tr>\n",
              "    <tr>\n",
              "      <th>4</th>\n",
              "      <td>0.813333</td>\n",
              "      <td>0.636364</td>\n",
              "      <td>0.86250</td>\n",
              "    </tr>\n",
              "  </tbody>\n",
              "</table>\n",
              "</div>"
            ],
            "text/plain": [
              "      score     visit  progress\n",
              "0  0.596667  0.545455   0.42375\n",
              "1  0.776667  0.636364   0.81000\n",
              "2  0.126667  0.454545   0.16875\n",
              "3  0.516667  0.545455   0.50000\n",
              "4  0.813333  0.636364   0.86250"
            ]
          },
          "metadata": {
            "tags": []
          },
          "execution_count": 75
        }
      ]
    },
    {
      "cell_type": "code",
      "metadata": {
        "id": "CgZ4GesgM3pV"
      },
      "source": [
        "from sklearn.cluster import KMeans\n",
        "hc = KMeans(3)\n",
        "y_hc = hc.fit_predict(mean_df)"
      ],
      "execution_count": 76,
      "outputs": []
    },
    {
      "cell_type": "code",
      "metadata": {
        "id": "x-h83ekhaSEI"
      },
      "source": [
        "mean_df['user_id'] = users_df['user_id']"
      ],
      "execution_count": 77,
      "outputs": []
    },
    {
      "cell_type": "code",
      "metadata": {
        "colab": {
          "base_uri": "https://localhost:8080/",
          "height": 199
        },
        "id": "wePa0lg8aZ1z",
        "outputId": "d748417b-39fb-4412-b371-0d765409ac00"
      },
      "source": [
        "mean_df.head()"
      ],
      "execution_count": 78,
      "outputs": [
        {
          "output_type": "execute_result",
          "data": {
            "text/html": [
              "<div>\n",
              "<style scoped>\n",
              "    .dataframe tbody tr th:only-of-type {\n",
              "        vertical-align: middle;\n",
              "    }\n",
              "\n",
              "    .dataframe tbody tr th {\n",
              "        vertical-align: top;\n",
              "    }\n",
              "\n",
              "    .dataframe thead th {\n",
              "        text-align: right;\n",
              "    }\n",
              "</style>\n",
              "<table border=\"1\" class=\"dataframe\">\n",
              "  <thead>\n",
              "    <tr style=\"text-align: right;\">\n",
              "      <th></th>\n",
              "      <th>score</th>\n",
              "      <th>visit</th>\n",
              "      <th>progress</th>\n",
              "      <th>user_id</th>\n",
              "    </tr>\n",
              "  </thead>\n",
              "  <tbody>\n",
              "    <tr>\n",
              "      <th>0</th>\n",
              "      <td>0.596667</td>\n",
              "      <td>0.545455</td>\n",
              "      <td>0.42375</td>\n",
              "      <td>1</td>\n",
              "    </tr>\n",
              "    <tr>\n",
              "      <th>1</th>\n",
              "      <td>0.776667</td>\n",
              "      <td>0.636364</td>\n",
              "      <td>0.81000</td>\n",
              "      <td>2</td>\n",
              "    </tr>\n",
              "    <tr>\n",
              "      <th>2</th>\n",
              "      <td>0.126667</td>\n",
              "      <td>0.454545</td>\n",
              "      <td>0.16875</td>\n",
              "      <td>3</td>\n",
              "    </tr>\n",
              "    <tr>\n",
              "      <th>3</th>\n",
              "      <td>0.516667</td>\n",
              "      <td>0.545455</td>\n",
              "      <td>0.50000</td>\n",
              "      <td>4</td>\n",
              "    </tr>\n",
              "    <tr>\n",
              "      <th>4</th>\n",
              "      <td>0.813333</td>\n",
              "      <td>0.636364</td>\n",
              "      <td>0.86250</td>\n",
              "      <td>5</td>\n",
              "    </tr>\n",
              "  </tbody>\n",
              "</table>\n",
              "</div>"
            ],
            "text/plain": [
              "      score     visit  progress  user_id\n",
              "0  0.596667  0.545455   0.42375        1\n",
              "1  0.776667  0.636364   0.81000        2\n",
              "2  0.126667  0.454545   0.16875        3\n",
              "3  0.516667  0.545455   0.50000        4\n",
              "4  0.813333  0.636364   0.86250        5"
            ]
          },
          "metadata": {
            "tags": []
          },
          "execution_count": 78
        }
      ]
    },
    {
      "cell_type": "code",
      "metadata": {
        "colab": {
          "base_uri": "https://localhost:8080/",
          "height": 282
        },
        "id": "T7cRb32ENPEx",
        "outputId": "6c5b0f9b-94ca-4dba-ecd7-e6a91ef5cb86"
      },
      "source": [
        "plt.scatter(mean_df.iloc[y_hc ==0,3],mean_df.iloc[y_hc ==0,0],  c='red')\n",
        "plt.scatter(mean_df.iloc[y_hc ==1,3],mean_df.iloc[y_hc ==1,0],  c='blue')\n",
        "plt.scatter(mean_df.iloc[y_hc ==2,3],mean_df.iloc[y_hc ==2,0],  c='yellow')"
      ],
      "execution_count": 79,
      "outputs": [
        {
          "output_type": "execute_result",
          "data": {
            "text/plain": [
              "<matplotlib.collections.PathCollection at 0x7f4ce241b990>"
            ]
          },
          "metadata": {
            "tags": []
          },
          "execution_count": 79
        },
        {
          "output_type": "display_data",
          "data": {
            "image/png": "[encoded data removed]",
            "text/plain": [
              "<Figure size 432x288 with 1 Axes>"
            ]
          },
          "metadata": {
            "tags": [],
            "needs_background": "light"
          }
        }
      ]
    },
    {
      "cell_type": "code",
      "metadata": {
        "colab": {
          "base_uri": "https://localhost:8080/",
          "height": 282
        },
        "id": "q-LAc-a6QAX9",
        "outputId": "393310c5-e99b-4911-d87f-a4c2aeefc043"
      },
      "source": [
        "plt.scatter(mean_df.iloc[y_hc ==0,3],mean_df.iloc[y_hc ==0,1],  c='red')\n",
        "plt.scatter(mean_df.iloc[y_hc ==1,3],mean_df.iloc[y_hc ==1,1],  c='blue')\n",
        "plt.scatter(mean_df.iloc[y_hc ==2,3],mean_df.iloc[y_hc ==2,1],  c='yellow')"
      ],
      "execution_count": 80,
      "outputs": [
        {
          "output_type": "execute_result",
          "data": {
            "text/plain": [
              "<matplotlib.collections.PathCollection at 0x7f4ce2392690>"
            ]
          },
          "metadata": {
            "tags": []
          },
          "execution_count": 80
        },
        {
          "output_type": "display_data",
          "data": {
            "image/png": "[encoded data removed]",
            "text/plain": [
              "<Figure size 432x288 with 1 Axes>"
            ]
          },
          "metadata": {
            "tags": [],
            "needs_background": "light"
          }
        }
      ]
    },
    {
      "cell_type": "code",
      "metadata": {
        "colab": {
          "base_uri": "https://localhost:8080/",
          "height": 282
        },
        "id": "xWjFOgWDQA0T",
        "outputId": "87d652d0-ccce-42be-850e-fb55e84c9058"
      },
      "source": [
        "plt.scatter(mean_df.iloc[y_hc ==0,3],mean_df.iloc[y_hc ==0,2],  c='red')\n",
        "plt.scatter(mean_df.iloc[y_hc ==1,3],mean_df.iloc[y_hc ==1,2],  c='blue')\n",
        "plt.scatter(mean_df.iloc[y_hc ==2,3],mean_df.iloc[y_hc ==2,2],  c='yellow')"
      ],
      "execution_count": 81,
      "outputs": [
        {
          "output_type": "execute_result",
          "data": {
            "text/plain": [
              "<matplotlib.collections.PathCollection at 0x7f4ce2312210>"
            ]
          },
          "metadata": {
            "tags": []
          },
          "execution_count": 81
        },
        {
          "output_type": "display_data",
          "data": {
            "image/png": "[encoded data removed]",
            "text/plain": [
              "<Figure size 432x288 with 1 Axes>"
            ]
          },
          "metadata": {
            "tags": [],
            "needs_background": "light"
          }
        }
      ]
    },
    {
      "cell_type": "code",
      "metadata": {
        "id": "-snV6exVZa6O"
      },
      "source": [
        "import pickle\n",
        "with open('model.pkl','wb') as f:\n",
        "    pickle.dump(hc,f)\n",
        "\n",
        "with open('model.pkl', 'rb') as f:\n",
        "    hc = pickle.load(f)"
      ],
      "execution_count": 42,
      "outputs": []
    },
    {
      "cell_type": "code",
      "metadata": {
        "id": "nfr2uhL4c8Ic"
      },
      "source": [
        "df1 = users_df.iloc[y_hc == 0]\n",
        "df2 = users_df.iloc[y_hc == 1]\n",
        "df3 = users_df.iloc[y_hc == 2]"
      ],
      "execution_count": 91,
      "outputs": []
    },
    {
      "cell_type": "code",
      "metadata": {
        "id": "VhreOYtkdQ5j"
      },
      "source": [
        "for i in range(3):\n",
        "  df1.iloc[i * 25:i * 25 + 25].to_csv(f'course_{i + 1}_top.csv', index=False)"
      ],
      "execution_count": 94,
      "outputs": []
    },
    {
      "cell_type": "code",
      "metadata": {
        "id": "NmUVYpA3eKWX"
      },
      "source": [
        "for i in range(3):\n",
        "  df2.iloc[i * 25:i * 25 + 25].to_csv(f'course_{i + 1}_middle.csv', index=False)"
      ],
      "execution_count": 95,
      "outputs": []
    },
    {
      "cell_type": "code",
      "metadata": {
        "id": "-PvLl504hlnT"
      },
      "source": [
        "for i in range(3):\n",
        "  df3.iloc[i * 25:i * 25 + 25].to_csv(f'course_{i + 1}_low.csv', index=False)"
      ],
      "execution_count": 96,
      "outputs": []
    },
    {
      "cell_type": "code",
      "metadata": {
        "id": "lmACGFjJhtyQ"
      },
      "source": [
        "df4 = df1.iloc[75:100].append(df2.iloc[75:100]).append(df3.iloc[75:100])"
      ],
      "execution_count": 97,
      "outputs": []
    },
    {
      "cell_type": "code",
      "metadata": {
        "id": "hQEoxrKKibN2"
      },
      "source": [
        "df4 = df4.sample(frac=1)"
      ],
      "execution_count": 101,
      "outputs": []
    },
    {
      "cell_type": "code",
      "metadata": {
        "id": "YmMXqWujibt4"
      },
      "source": [
        "for i in range(3):\n",
        "  df4.iloc[i * 25:i * 25 + 25].to_csv(f'course_{i + 1}_mix.csv', index=False)"
      ],
      "execution_count": 102,
      "outputs": []
    },
    {
      "cell_type": "code",
      "metadata": {
        "id": "4kAXlohUi_ia"
      },
      "source": [
        ""
      ],
      "execution_count": null,
      "outputs": []
    }
  ]
}